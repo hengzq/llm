{
 "cells": [
  {
   "attachments": {},
   "cell_type": "markdown",
   "id": "9dd977e2-8b74-438b-81d8-d0dc1637f4ec",
   "metadata": {},
   "source": [
    "# Hugging Face Datasets 库是什么？\n",
    "\n",
    "    Datasets 是一个用于轻松访问和共享音频、计算机视觉和自然语言处理（NLP）任务数据集的Python库。只需一行代码即可加载数据集，借助强大的数据处理方法，使用户能快速准备好数据集以进行深度学习模型的训练。\n",
    "\n",
    "    与Hugging Face Hub深度整合，在更广泛的机器学习社区中轻松加载和共享数据集。\n",
    "\n",
    "    Hugging Face Datasets首页：[https://huggingface.co/datasets](https://huggingface.co/datasets)\n",
    "\n",
    "![image.png](./static/img/datasets_1.png)\n",
    "\n"
   ]
  },
  {
   "cell_type": "markdown",
   "id": "c8dcbc18-8f11-4770-aa7a-595d79e27d17",
   "metadata": {},
   "source": [
    "## Datasets.load_dataset 实现原理简介\n",
    "\n",
    "\n"
   ]
  },
  {
   "cell_type": "code",
   "execution_count": null,
   "id": "8e225516-cd6c-418e-8d02-99f2f5776bc6",
   "metadata": {},
   "outputs": [],
   "source": []
  }
 ],
 "metadata": {
  "kernelspec": {
   "display_name": "Python 3 (ipykernel)",
   "language": "python",
   "name": "python3"
  },
  "language_info": {
   "codemirror_mode": {
    "name": "ipython",
    "version": 3
   },
   "file_extension": ".py",
   "mimetype": "text/x-python",
   "name": "python",
   "nbconvert_exporter": "python",
   "pygments_lexer": "ipython3",
   "version": "3.10.14"
  }
 },
 "nbformat": 4,
 "nbformat_minor": 5
}
