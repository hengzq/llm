{
 "cells": [
  {
   "cell_type": "markdown",
   "id": "5ce318bf-8de7-48e8-9e75-b8f7ddadaf82",
   "metadata": {},
   "source": [
    "# Hugging Face Evaluate库是什么？ \n",
    "\n",
    "    Evaluate库是一个用于轻松评估机器学习模型和数据集的Python库。\n",
    "\n",
    "    无论是在本地设备上还是分布式训练环境中，用户都可以以一致且可重复的方式评估模型。\n",
    "\n",
    "    \n"
   ]
  }
 ],
 "metadata": {
  "kernelspec": {
   "display_name": "Python 3 (ipykernel)",
   "language": "python",
   "name": "python3"
  },
  "language_info": {
   "codemirror_mode": {
    "name": "ipython",
    "version": 3
   },
   "file_extension": ".py",
   "mimetype": "text/x-python",
   "name": "python",
   "nbconvert_exporter": "python",
   "pygments_lexer": "ipython3",
   "version": "3.10.14"
  }
 },
 "nbformat": 4,
 "nbformat_minor": 5
}
