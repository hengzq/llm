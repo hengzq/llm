{
 "cells": [
  {
   "cell_type": "markdown",
   "id": "cfd7a7ec-ca41-47b2-b9b1-93a986bf7375",
   "metadata": {},
   "source": [
    "# Hugging Face Transformers 是什么？\n",
    "> Hugging Face Transformers 是一个Python库，允许用户下载和训练机器学习（ML）模型。<br>\n",
    "> 它最初被创建用于开发语言模型，现在功能已扩展到包括多模态，计算机视觉和音频处理等其他用途的模型。\n",
    "\n",
    "\n",
    "- **丰富的预训练模型**：提供广泛的预训练模型，如BERT，GPT，T5等，适用于各种NLP任务。\n",
    "- **易于使用**：设计注重易用性，使得即使没有深厚机器学习背景的开发者能快速上手。\n",
    "- **最新研究成果的快速集成**:经常更新，包含最新的研究成果和模型\n",
    "- **强大的社区支持**：获取的社区不断更新和维护库，提供技术支持和新功能\n",
    "- **跨框架兼容性**：支持多种深度学习框架，如PyTorch，TensorFlow，提供灵活选择\n",
    "- **高度灵活和可定制化**：允许用户根据需求定制和调整模型，进行微调或应用于特定任务\n",
    "- **广泛的应用范围**：适用于从文本分类到语言生成等多种NLP应用，以及其他模态的扩展。\n",
    "\n",
    "\n",
    "\n"
   ]
  },
  {
   "cell_type": "markdown",
   "id": "b23f1b8b-ccb4-490a-97ad-3cbdfc6bb49c",
   "metadata": {},
   "source": [
    "## 安装Transformers\n",
    "```shell\n",
    "    pip install transformers\n",
    "```\n",
    "\n",
    "- Pytorch 安装\n",
    "```shell\n",
    "    pip install torch\n",
    "```\n",
    "\n",
    "- TensorFlow 安装\n",
    "```shell\n",
    "    pip install tensorflow\n",
    "```\n",
    "\n",
    "\n",
    "\n",
    "\n",
    "\n"
   ]
  },
  {
   "cell_type": "code",
   "execution_count": null,
   "id": "d54aaea8-52a9-4f23-add2-81164daf7ccd",
   "metadata": {},
   "outputs": [],
   "source": []
  }
 ],
 "metadata": {
  "kernelspec": {
   "display_name": "Python 3 (ipykernel)",
   "language": "python",
   "name": "python3"
  },
  "language_info": {
   "codemirror_mode": {
    "name": "ipython",
    "version": 3
   },
   "file_extension": ".py",
   "mimetype": "text/x-python",
   "name": "python",
   "nbconvert_exporter": "python",
   "pygments_lexer": "ipython3",
   "version": "3.10.14"
  }
 },
 "nbformat": 4,
 "nbformat_minor": 5
}
