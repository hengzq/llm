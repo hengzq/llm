{
 "cells": [
  {
   "cell_type": "markdown",
   "id": "cfd7a7ec-ca41-47b2-b9b1-93a986bf7375",
   "metadata": {},
   "source": [
    "# Hugging Face Transformers 是什么？\n",
    "\n",
    "- 项目地址：[https://github.com/huggingface/transformers/tree/main](https://github.com/huggingface/transformers/tree/main)\n"
   ]
  },
  {
   "cell_type": "markdown",
   "id": "b23f1b8b-ccb4-490a-97ad-3cbdfc6bb49c",
   "metadata": {},
   "source": [
    "## 安装Transformers\n",
    "```shell\n",
    "    pip install transformers\n",
    "```\n",
    "\n",
    "- Pytorch 安装\n",
    "```shell\n",
    "    pip install torch\n",
    "```\n",
    "\n",
    "- TensorFlow 安装\n",
    "```shell\n",
    "    pip install tensorflow\n",
    "```\n",
    "\n",
    "\n",
    "安装方式参官方文档：[https://github.com/huggingface/transformers/blob/main/i18n/README_zh-hans.md#%E5%AE%89%E8%A3%85](https://github.com/huggingface/transformers/blob/main/i18n/README_zh-hans.md#%E5%AE%89%E8%A3%85)\n",
    "\n",
    "\n"
   ]
  },
  {
   "cell_type": "markdown",
   "id": "ae11d924-1322-4b1a-9ec2-7e46305e0ae6",
   "metadata": {},
   "source": [
    "## Transformer 结构\n",
    "\n",
    "- 参考:[https://jalammar.github.io/illustrated-transformer/](https://jalammar.github.io/illustrated-transformer/)"
   ]
  },
  {
   "cell_type": "code",
   "execution_count": null,
   "id": "f1c47deb-d247-4196-b6d5-9e3cc315424e",
   "metadata": {},
   "outputs": [],
   "source": []
  }
 ],
 "metadata": {
  "kernelspec": {
   "display_name": "Python 3 (ipykernel)",
   "language": "python",
   "name": "python3"
  },
  "language_info": {
   "codemirror_mode": {
    "name": "ipython",
    "version": 3
   },
   "file_extension": ".py",
   "mimetype": "text/x-python",
   "name": "python",
   "nbconvert_exporter": "python",
   "pygments_lexer": "ipython3",
   "version": "3.10.14"
  }
 },
 "nbformat": 4,
 "nbformat_minor": 5
}
