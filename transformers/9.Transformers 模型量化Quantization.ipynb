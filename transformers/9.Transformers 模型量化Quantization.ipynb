{
 "cells": [
  {
   "cell_type": "markdown",
   "id": "c6905738-64bd-45f7-b11a-3c4f6bbf74b5",
   "metadata": {},
   "source": [
    "# Transformers 模型量化 Quantiaztion\n",
    "\n",
    "    量化（Quantization）技术专注于用较少的信息表示数据，同时尽量不损失太多准确性。\n",
    "\n",
    "    具体来说，量化会将模型参数使用的数据类型，转换为更少位数表示，并尽可能达到相同信息的效果。\n",
    "\n",
    "\n",
    "例如：假设你的模型权重原始以32位（32-bit）浮点数（Float32）存储\n",
    "- 如果将他们量化位16位（16-bit）浮点数（Float16），则可以将模型大小减半。换句话说，仅需要一半的GPU显存既可加载量化后的模型\n",
    "  \n"
   ]
  },
  {
   "cell_type": "markdown",
   "id": "f44c1f57-f62b-4cda-96ea-32658ccd1aca",
   "metadata": {},
   "source": [
    "## 模型参数与显存占用计算方法\n",
    "\n",
    "为了详细说明模型的参数数量和每个参数在显存中占用的空间大小\n",
    "\n"
   ]
  },
  {
   "cell_type": "code",
   "execution_count": null,
   "id": "8993dfba-9c85-4239-a6ed-dc0a344d9153",
   "metadata": {},
   "outputs": [],
   "source": []
  }
 ],
 "metadata": {
  "kernelspec": {
   "display_name": "Python 3 (ipykernel)",
   "language": "python",
   "name": "python3"
  },
  "language_info": {
   "codemirror_mode": {
    "name": "ipython",
    "version": 3
   },
   "file_extension": ".py",
   "mimetype": "text/x-python",
   "name": "python",
   "nbconvert_exporter": "python",
   "pygments_lexer": "ipython3",
   "version": "3.10.14"
  }
 },
 "nbformat": 4,
 "nbformat_minor": 5
}
