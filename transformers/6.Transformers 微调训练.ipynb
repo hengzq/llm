{
 "cells": [
  {
   "cell_type": "markdown",
   "id": "115e031e-c322-4383-8662-9523dc6cb25b",
   "metadata": {},
   "source": [
    "#  Hugging Face Transformers 微调训练\n",
    "\n",
    "- 数据集下载\n",
    "- 数据预处理\n",
    "- 训练超参数设置\n",
    "- 训练评估指标设置\n",
    "- 实战训练\n",
    "- 模型保存\n",
    "\n"
   ]
  },
  {
   "cell_type": "markdown",
   "id": "9b8e5de8-99d3-4361-ae3f-458472f3a6cf",
   "metadata": {},
   "source": [
    "## 数据集下载\n",
    "\n",
    "数据集首页: [https://huggingface.co/datasets/Yelp/yelp_review_full](https://huggingface.co/datasets/Yelp/yelp_review_full)\n",
    "\n"
   ]
  },
  {
   "cell_type": "code",
   "execution_count": 3,
   "id": "33f9d619-7d7c-4a66-867e-589929040fdf",
   "metadata": {},
   "outputs": [],
   "source": [
    "from datasets import load_dataset\n",
    "dataset_path = \"/home/hengzq/workspace/modelscope/datasets/yelp_review_full\"\n",
    "\n",
    "dataset = load_dataset(dataset_path)"
   ]
  },
  {
   "cell_type": "code",
   "execution_count": 4,
   "id": "2db7185f-42a1-43f8-b964-cb8dea32b7a1",
   "metadata": {},
   "outputs": [
    {
     "data": {
      "text/plain": [
       "DatasetDict({\n",
       "    train: Dataset({\n",
       "        features: ['label', 'text'],\n",
       "        num_rows: 650000\n",
       "    })\n",
       "    test: Dataset({\n",
       "        features: ['label', 'text'],\n",
       "        num_rows: 50000\n",
       "    })\n",
       "})"
      ]
     },
     "execution_count": 4,
     "metadata": {},
     "output_type": "execute_result"
    }
   ],
   "source": [
    "dataset"
   ]
  },
  {
   "cell_type": "code",
   "execution_count": 5,
   "id": "a089631d-2e4a-497b-8850-24bfbcf7144a",
   "metadata": {},
   "outputs": [
    {
     "data": {
      "text/plain": [
       "{'label': 0,\n",
       " 'text': \"Owning a driving range inside the city limits is like a license to print money.  I don't think I ask much out of a driving range.  Decent mats, clean balls and accessible hours.  Hell you need even less people now with the advent of the machine that doles out the balls.  This place has none of them.  It is april and there are no grass tees yet.  BTW they opened for the season this week although it has been golfing weather for a month.  The mats look like the carpet at my 107 year old aunt Irene's house.  Worn and thread bare.  Let's talk about the hours.  This place is equipped with lights yet they only sell buckets of balls until 730.  It is still light out.  Finally lets you have the pit to hit into.  When I arrived I wasn't sure if this was a driving range or an excavation site for a mastodon or a strip mining operation.  There is no grass on the range. Just mud.  Makes it a good tool to figure out how far you actually are hitting the ball.  Oh, they are cash only also.\\\\n\\\\nBottom line, this place sucks.  The best hope is that the owner sells it to someone that actually wants to make money and service golfers in Pittsburgh.\"}"
      ]
     },
     "execution_count": 5,
     "metadata": {},
     "output_type": "execute_result"
    }
   ],
   "source": [
    "dataset[\"train\"][10]"
   ]
  },
  {
   "cell_type": "code",
   "execution_count": 4,
   "id": "f253d31e-afe2-4d93-b5ce-755298e0ef5d",
   "metadata": {},
   "outputs": [
    {
     "data": {
      "text/plain": [
       "{'label': 1,\n",
       " 'text': \"Think Chuck E. Cheese for adults.  Skee Ball, video games pool tables.  Clean environment.  Good fun.\\\\n\\\\nUnfortunately, I went for a bite to eat and it was impossible to find anything good and healthy on the menu.  I ended up settling for spinach dip.  Sadly, they topped the dip off with horrible orange shredded cheese that appeared to have been popped in the microwave for a few seconds.  Blahhhh.  Trying to get something healthy, I ordered the apple pecan salad.  I swear the dressing came right out of the grocery store bottle.  I could barely eat the salad.  Too sweet.\\\\n\\\\nMy mom ordered a steak roll.....holy friedness!  The steak was more like hamburger fried with cheese and then stuffed into breading that was fried AGAIN!  Yowzer!  Artery clogger for sure.  \\\\n\\\\nI like the atmosphere.  I like the bar area.  Perhaps next time we'll just stop by for drinks instead.\"}"
      ]
     },
     "execution_count": 4,
     "metadata": {},
     "output_type": "execute_result"
    }
   ],
   "source": [
    "dataset[\"test\"][10]"
   ]
  },
  {
   "cell_type": "code",
   "execution_count": 6,
   "id": "90d992c5-657c-4c43-ba8d-6f3e558b63a0",
   "metadata": {},
   "outputs": [],
   "source": [
    "import random\n",
    "import pandas as pd\n",
    "import datasets\n",
    "from IPython.display import display, HTML"
   ]
  },
  {
   "cell_type": "code",
   "execution_count": 7,
   "id": "3c658876-d60f-45fc-a203-2abd9907c074",
   "metadata": {},
   "outputs": [],
   "source": [
    "def show_random_elements(dataset, num_examples = 10):\n",
    "    picks = []\n",
    "    for _ in range(num_examples):\n",
    "        pick = random.randint(0, len(dataset) - 1)\n",
    "        while pick in picks:\n",
    "            pick = random.randint(0, len(dataset) - 1)\n",
    "        picks.append(pick)\n",
    "\n",
    "    df = pd.DataFrame(dataset[picks])\n",
    "    for col, typ in dataset.features.items():\n",
    "        if isinstance(typ, datasets.ClassLabel):\n",
    "            df[col] = df[col].transform(lambda i: typ.names[i])\n",
    "    display(HTML(df.to_html()))"
   ]
  },
  {
   "cell_type": "code",
   "execution_count": 8,
   "id": "0e0e5b31-fcbe-4103-abcc-7b2573676b51",
   "metadata": {},
   "outputs": [
    {
     "data": {
      "text/html": [
       "<table border=\"1\" class=\"dataframe\">\n",
       "  <thead>\n",
       "    <tr style=\"text-align: right;\">\n",
       "      <th></th>\n",
       "      <th>label</th>\n",
       "      <th>text</th>\n",
       "    </tr>\n",
       "  </thead>\n",
       "  <tbody>\n",
       "    <tr>\n",
       "      <th>0</th>\n",
       "      <td>2 star</td>\n",
       "      <td>Listen, I don't enjoy writing bad reviews, but this place really earns it. This is not a happy place. You feel like you have really hit the dirty end of Vegas when you come here. My company made me stay here while working a trade show. While I can't speak to the price, it made me realize my company doesn't care much for me or my comfort. \\n\\nI stayed in the Central Tower, which I think is the reason for my negative experience. I hear the North Tower has been renovated and is decent. \\n\\nCons; the hotel rooms (at least the ones not renovated) are gross, the bathrooms are filthy, you only get two small towels, the sink was broken\\n\\nPros; it is attached to the monorail, there are several semi decent restaurants, there is a good gift shop (albeit expensive)</td>\n",
       "    </tr>\n",
       "    <tr>\n",
       "      <th>1</th>\n",
       "      <td>4 stars</td>\n",
       "      <td>If you are looking for great authentic style pizza, wings, and subs, come and enjoy a warm family oriented restaurant in the heart of Phoenix.  Are you tired of the artificiality of the popular food chains, come and enjoy a unique experience at Angie and Jimmy's.  The pizza and wings is the hot commodity, due to taste and daily specials, yet Angie and Jimmy's also provide a variety of authentic subs.  The interior design is layered with precious Elvis artifacts, which is the reason why some people come in and dine in the first place.  Once there however, it is hard to not fall in love with anything and everything you eat.  Yet, if you can't make it to the restaurant, Angie and Jimmy's cater to parties and local events.  So if you can't enjoy the fun from the inside, Angie and Jimmy's lets you take it outside.</td>\n",
       "    </tr>\n",
       "    <tr>\n",
       "      <th>2</th>\n",
       "      <td>2 star</td>\n",
       "      <td>We've come here a couple times, and the experience has been fine. As I dined here tonight, not only was the service horrible but all the dishes came out cold. It's a Thursday night and I've never had such slow service. Our group ordered maybe 5 rolls total but only 3 came out. As we asked our waiter where they were, he said that the chef didn't get them all in. (Who's fault is that really?) I'm not sure if I'll dine here again after tonight. He won't be getting a good surprise at the end of tonight.</td>\n",
       "    </tr>\n",
       "    <tr>\n",
       "      <th>3</th>\n",
       "      <td>4 stars</td>\n",
       "      <td>Always good lunch, excellent soup... Gooood  sushi. The reason for the missing star is restroom. Clean but cheap stuff... Doesnt have to be that way. Soap n paper towel is important!</td>\n",
       "    </tr>\n",
       "    <tr>\n",
       "      <th>4</th>\n",
       "      <td>4 stars</td>\n",
       "      <td>I noticed I had a low tire on the way in to town so I looked for a Discount Tire and found one just down the street. In and out in less than two minutes. One of the reasons Discount had been getting all my tire business for many years.</td>\n",
       "    </tr>\n",
       "    <tr>\n",
       "      <th>5</th>\n",
       "      <td>4 stars</td>\n",
       "      <td>The Rivers is a great spot downtown to play some slots or table games! They have non-smoking sections, a wide variety of machines, beverage service, great buffets with a ton of freshly made cuisines and free parking. Everything is incredibly clean, too! The machines are usually pretty tight but it's still fun to go!</td>\n",
       "    </tr>\n",
       "    <tr>\n",
       "      <th>6</th>\n",
       "      <td>5 stars</td>\n",
       "      <td>If there were 10 Stars, I would give it 10 stars!!!!!!  Thank you Thank you THANK YOU my dearest Junior for introducing me to MacAlpines!  This is My absolute favorite Place.  Walk In here, and feel like you have traveled back in time, so amazingly kept original!  Wooden Booths with a hat rack at each end, sooo cool!!  Eat their Mouthwatering food while you sing along to the coolest oldies overhead.   I must say my favorite meal is a tie between their Egg Salad and Chicken Salad Sandwich... mmmmmmmm... oh and their split pea soup!!!  Cocunut Egg Cream Soda!!!! AND THEY SERVE THRIFTY'S ICE CREAM!! THE BEST Banana Split you will find!   And you get to shop while you wait for your food! YES! 2 rooms filled with the neatest trinkets,a room filled with amazingly classy clothes/scarves/hats/pins, a phone booth, furniature, You will want to buy it all.  You MUST check this place out.</td>\n",
       "    </tr>\n",
       "    <tr>\n",
       "      <th>7</th>\n",
       "      <td>4 stars</td>\n",
       "      <td>The casino is a good size, has beautiful architecture out front and elegant waterfalls inside. Since its so new, the carpeting and walls are still clean. The staff are all very helpful, and especially good with the old folk. \\n\\nI didn't try out any of the gambling, since I was just there to eat. I was amazed at how busy it was on an early Saturday. The place is full of depressing overweight smokers, and unlike Vegas where everyone is in a party mood, the customers here seemed lifeless. \\n\\nWe ate at the 24/7 cafe which has your regular fried up comfort food. I was kind of shocked at how unhealthily they were able to prepare every single dish. If butter, lard, or a fried covering could be added to the food, it was. But the prices are cheap and give you the energy to keep throwing your money at the slots for another few hours. \\n\\nI want to come back and try their nice looking steakhouse. \\nThis place gets an extra star for being open day and night, which is rare in the East Valley.</td>\n",
       "    </tr>\n",
       "  </tbody>\n",
       "</table>"
      ],
      "text/plain": [
       "<IPython.core.display.HTML object>"
      ]
     },
     "metadata": {},
     "output_type": "display_data"
    }
   ],
   "source": [
    "show_random_elements(dataset[\"train\"], 8)"
   ]
  },
  {
   "cell_type": "markdown",
   "id": "c24c5ab0-dda1-499e-9bf2-574f7a49b795",
   "metadata": {},
   "source": [
    "## 数据预处理\n",
    "\n",
    "     下载数据集到本地后，使用Tokenizer来处理文本，对于长度不等的输入数据，可以使用填充（padding）和截断（truncation）策略来处理。\n",
    "\n",
    "     Datasets的map方法，支持一次性在整个数据集上应用预处理函数。\n",
    "     \n"
   ]
  },
  {
   "cell_type": "code",
   "execution_count": 9,
   "id": "cd9847fa-6e87-4370-b549-9f5abaf2d07a",
   "metadata": {},
   "outputs": [],
   "source": [
    "#  使用填充到最大长度的策略，处理整个数据集：\n",
    "\n",
    "from transformers import AutoTokenizer\n",
    "\n",
    "model_path = \"/home/hengzq/workspace/modelscope/models/bert-base-cased\"\n",
    "\n",
    "tokenizer = AutoTokenizer.from_pretrained(model_path)\n",
    "\n",
    "def tokenize_function(examples):\n",
    "    return tokenizer(examples[\"text\"], padding = \"max_length\", truncation = True)\n",
    "\n",
    "tokenized_datasets = dataset.map(tokenize_function, batched = True)"
   ]
  },
  {
   "cell_type": "code",
   "execution_count": 10,
   "id": "0d73afcd-01ce-4fa9-87ee-d23020573a28",
   "metadata": {},
   "outputs": [
    {
     "data": {
      "text/html": [
       "<table border=\"1\" class=\"dataframe\">\n",
       "  <thead>\n",
       "    <tr style=\"text-align: right;\">\n",
       "      <th></th>\n",
       "      <th>label</th>\n",
       "      <th>text</th>\n",
       "      <th>input_ids</th>\n",
       "      <th>token_type_ids</th>\n",
       "      <th>attention_mask</th>\n",
       "    </tr>\n",
       "  </thead>\n",
       "  <tbody>\n",
       "    <tr>\n",
       "      <th>0</th>\n",
       "      <td>2 star</td>\n",
       "      <td>This will absolutely be the last time I review this place- promise! They are changing their name to \\\"Spectrum Fitness\\\", and this week is the week to sign your new contract. Meaning, whatever deal you had is null and void. Everyone has to pay $19.99 a month. No exceptions. Do not pass Go, do not collect $200.\\n\\nI hate to do it, because I really do love this facility, but it's not worth paying the extra money when I can still pay what I always have at Fitness Works, who took over our contracts. It's just a little annoying that they would rather lose two people (they lost my training partner too) who wanted to stay, than work out some sort of deal. Oh well, their loss. We'll see how long they last, after all it's the third company to be in the space in I think as many years.</td>\n",
       "      <td>[101, 1188, 1209, 7284, 1129, 1103, 1314, 1159, 146, 3189, 1142, 1282, 118, 4437, 106, 1220, 1132, 4787, 1147, 1271, 1106, 165, 107, 22046, 28074, 165, 107, 117, 1105, 1142, 1989, 1110, 1103, 1989, 1106, 2951, 1240, 1207, 2329, 119, 25030, 1158, 117, 3451, 2239, 1128, 1125, 1110, 26280, 1105, 13340, 119, 6064, 1144, 1106, 2653, 109, 1627, 119, 4850, 170, 2370, 119, 1302, 12408, 119, 2091, 1136, 2789, 3414, 117, 1202, 1136, 7822, 109, 2363, 119, 165, 183, 165, 183, 2240, 4819, 1106, 1202, 1122, 117, 1272, 146, 1541, 1202, 1567, 1142, 3695, 117, 1133, 1122, 112, 188, 1136, ...]</td>\n",
       "      <td>[0, 0, 0, 0, 0, 0, 0, 0, 0, 0, 0, 0, 0, 0, 0, 0, 0, 0, 0, 0, 0, 0, 0, 0, 0, 0, 0, 0, 0, 0, 0, 0, 0, 0, 0, 0, 0, 0, 0, 0, 0, 0, 0, 0, 0, 0, 0, 0, 0, 0, 0, 0, 0, 0, 0, 0, 0, 0, 0, 0, 0, 0, 0, 0, 0, 0, 0, 0, 0, 0, 0, 0, 0, 0, 0, 0, 0, 0, 0, 0, 0, 0, 0, 0, 0, 0, 0, 0, 0, 0, 0, 0, 0, 0, 0, 0, 0, 0, 0, 0, ...]</td>\n",
       "      <td>[1, 1, 1, 1, 1, 1, 1, 1, 1, 1, 1, 1, 1, 1, 1, 1, 1, 1, 1, 1, 1, 1, 1, 1, 1, 1, 1, 1, 1, 1, 1, 1, 1, 1, 1, 1, 1, 1, 1, 1, 1, 1, 1, 1, 1, 1, 1, 1, 1, 1, 1, 1, 1, 1, 1, 1, 1, 1, 1, 1, 1, 1, 1, 1, 1, 1, 1, 1, 1, 1, 1, 1, 1, 1, 1, 1, 1, 1, 1, 1, 1, 1, 1, 1, 1, 1, 1, 1, 1, 1, 1, 1, 1, 1, 1, 1, 1, 1, 1, 1, ...]</td>\n",
       "    </tr>\n",
       "    <tr>\n",
       "      <th>1</th>\n",
       "      <td>5 stars</td>\n",
       "      <td>Had a chance to get back to Java Cat today. Seriously. If you love frozen treats and you haven't been here yet, I am shedding a tear for you. \\n\\nThe best gelato I've had, hands down. Both in quality, and creativity of flavors. \\n\\n(as a side note, the man and I split a BLT today as well, which was also yummy in that good-old-classic-sandwich kind of way).</td>\n",
       "      <td>[101, 6467, 170, 2640, 1106, 1243, 1171, 1106, 9155, 8572, 2052, 119, 18725, 119, 1409, 1128, 1567, 7958, 20554, 1105, 1128, 3983, 112, 189, 1151, 1303, 1870, 117, 146, 1821, 8478, 3408, 170, 7591, 1111, 1128, 119, 165, 183, 165, 183, 1942, 4638, 1436, 27426, 10024, 146, 112, 1396, 1125, 117, 1493, 1205, 119, 2695, 1107, 3068, 117, 1105, 17980, 1104, 16852, 1116, 119, 165, 183, 165, 183, 113, 1112, 170, 1334, 3805, 117, 1103, 1299, 1105, 146, 3325, 170, 139, 26909, 2052, 1112, 1218, 117, 1134, 1108, 1145, 194, 1818, 4527, 1107, 1115, 1363, 118, 1385, 118, 5263, 118, ...]</td>\n",
       "      <td>[0, 0, 0, 0, 0, 0, 0, 0, 0, 0, 0, 0, 0, 0, 0, 0, 0, 0, 0, 0, 0, 0, 0, 0, 0, 0, 0, 0, 0, 0, 0, 0, 0, 0, 0, 0, 0, 0, 0, 0, 0, 0, 0, 0, 0, 0, 0, 0, 0, 0, 0, 0, 0, 0, 0, 0, 0, 0, 0, 0, 0, 0, 0, 0, 0, 0, 0, 0, 0, 0, 0, 0, 0, 0, 0, 0, 0, 0, 0, 0, 0, 0, 0, 0, 0, 0, 0, 0, 0, 0, 0, 0, 0, 0, 0, 0, 0, 0, 0, 0, ...]</td>\n",
       "      <td>[1, 1, 1, 1, 1, 1, 1, 1, 1, 1, 1, 1, 1, 1, 1, 1, 1, 1, 1, 1, 1, 1, 1, 1, 1, 1, 1, 1, 1, 1, 1, 1, 1, 1, 1, 1, 1, 1, 1, 1, 1, 1, 1, 1, 1, 1, 1, 1, 1, 1, 1, 1, 1, 1, 1, 1, 1, 1, 1, 1, 1, 1, 1, 1, 1, 1, 1, 1, 1, 1, 1, 1, 1, 1, 1, 1, 1, 1, 1, 1, 1, 1, 1, 1, 1, 1, 1, 1, 1, 1, 1, 1, 1, 1, 1, 1, 1, 1, 1, 1, ...]</td>\n",
       "    </tr>\n",
       "  </tbody>\n",
       "</table>"
      ],
      "text/plain": [
       "<IPython.core.display.HTML object>"
      ]
     },
     "metadata": {},
     "output_type": "display_data"
    }
   ],
   "source": [
    "show_random_elements(tokenized_datasets[\"train\"], num_examples = 2)"
   ]
  },
  {
   "cell_type": "markdown",
   "id": "dd35da3b-d95a-4049-acf2-b6862acee26a",
   "metadata": {},
   "source": [
    "### 数据抽样\n",
    "\n",
    "`shuffle()`函数会随机重新排列列的值。"
   ]
  },
  {
   "cell_type": "code",
   "execution_count": 11,
   "id": "64181f26-aafa-43e1-817f-4743fbcd25dd",
   "metadata": {},
   "outputs": [],
   "source": [
    "small_train_dataset = tokenized_datasets[\"train\"].shuffle(seed = 42).select(range(1000))\n",
    "small_eval_dataset = tokenized_datasets[\"test\"].shuffle(seed = 42).select(range(1000))"
   ]
  },
  {
   "cell_type": "markdown",
   "id": "3fe7ac9b-62b2-4dec-b022-a1a03dbcaea4",
   "metadata": {},
   "source": [
    "## 加载模型\n"
   ]
  },
  {
   "cell_type": "code",
   "execution_count": 12,
   "id": "7f6a6fdb-a99d-4ff5-883a-f5faefcf3b44",
   "metadata": {},
   "outputs": [
    {
     "name": "stderr",
     "output_type": "stream",
     "text": [
      "Some weights of BertForSequenceClassification were not initialized from the model checkpoint at /home/hengzq/workspace/modelscope/models/bert-base-cased and are newly initialized: ['classifier.bias', 'classifier.weight']\n",
      "You should probably TRAIN this model on a down-stream task to be able to use it for predictions and inference.\n"
     ]
    }
   ],
   "source": [
    "from transformers import AutoModelForSequenceClassification\n",
    "\n",
    "model_path = \"/home/hengzq/workspace/modelscope/models/bert-base-cased\"\n",
    "\n",
    "model = AutoModelForSequenceClassification.from_pretrained(model_path, num_labels = 5)"
   ]
  },
  {
   "cell_type": "markdown",
   "id": "8249dcc0-20cc-403b-b732-c67edf036d55",
   "metadata": {},
   "source": [
    "## 训练超参数设置\n",
    "\n",
    "完整配置参数与默认值：[https://huggingface.co/docs/transformers/v4.36.1/en/main_classes/trainer#transformers.TrainingArguments](https://huggingface.co/docs/transformers/v4.36.1/en/main_classes/trainer#transformers.TrainingArguments)\n",
    "\n",
    "源代码定义：[https://github.com/huggingface/transformers/blob/v4.36.1/src/transformers/training_args.py#L161](https://github.com/huggingface/transformers/blob/v4.36.1/src/transformers/training_args.py#L161)\n",
    "\n",
    "\n"
   ]
  },
  {
   "cell_type": "code",
   "execution_count": 13,
   "id": "a164f2fa-cd97-4a4b-947e-6c7ffa4f061a",
   "metadata": {},
   "outputs": [],
   "source": [
    "from transformers import TrainingArguments\n",
    "\n",
    "model_dir = \"/home/hengzq/workspace/modelscope/models/bert-base-cased\"\n",
    "\n",
    "# logging_steps 默认值为500，根据我们的训练数据和步长，设置为100\n",
    "training_args = TrainingArguments(output_dir = f\"{model_dir}/test_trainer\",\n",
    "                                  logging_dir = f\"{model_dir}/test_trainer/runs\",\n",
    "                                  logging_steps = 100)\n",
    "\n"
   ]
  },
  {
   "cell_type": "code",
   "execution_count": 13,
   "id": "c3058519-5502-4fad-a203-3197600db7b4",
   "metadata": {
    "scrolled": true
   },
   "outputs": [
    {
     "name": "stdout",
     "output_type": "stream",
     "text": [
      "TrainingArguments(\n",
      "_n_gpu=1,\n",
      "accelerator_config={'split_batches': False, 'dispatch_batches': None, 'even_batches': True, 'use_seedable_sampler': True, 'non_blocking': False, 'gradient_accumulation_kwargs': None, 'use_configured_state': False},\n",
      "adafactor=False,\n",
      "adam_beta1=0.9,\n",
      "adam_beta2=0.999,\n",
      "adam_epsilon=1e-08,\n",
      "auto_find_batch_size=False,\n",
      "average_tokens_across_devices=False,\n",
      "batch_eval_metrics=False,\n",
      "bf16=False,\n",
      "bf16_full_eval=False,\n",
      "data_seed=None,\n",
      "dataloader_drop_last=False,\n",
      "dataloader_num_workers=0,\n",
      "dataloader_persistent_workers=False,\n",
      "dataloader_pin_memory=True,\n",
      "dataloader_prefetch_factor=None,\n",
      "ddp_backend=None,\n",
      "ddp_broadcast_buffers=None,\n",
      "ddp_bucket_cap_mb=None,\n",
      "ddp_find_unused_parameters=None,\n",
      "ddp_timeout=1800,\n",
      "debug=[],\n",
      "deepspeed=None,\n",
      "disable_tqdm=False,\n",
      "dispatch_batches=None,\n",
      "do_eval=False,\n",
      "do_predict=False,\n",
      "do_train=False,\n",
      "eval_accumulation_steps=None,\n",
      "eval_delay=0,\n",
      "eval_do_concat_batches=True,\n",
      "eval_on_start=False,\n",
      "eval_steps=None,\n",
      "eval_strategy=no,\n",
      "eval_use_gather_object=False,\n",
      "evaluation_strategy=None,\n",
      "fp16=False,\n",
      "fp16_backend=auto,\n",
      "fp16_full_eval=False,\n",
      "fp16_opt_level=O1,\n",
      "fsdp=[],\n",
      "fsdp_config={'min_num_params': 0, 'xla': False, 'xla_fsdp_v2': False, 'xla_fsdp_grad_ckpt': False},\n",
      "fsdp_min_num_params=0,\n",
      "fsdp_transformer_layer_cls_to_wrap=None,\n",
      "full_determinism=False,\n",
      "gradient_accumulation_steps=1,\n",
      "gradient_checkpointing=False,\n",
      "gradient_checkpointing_kwargs=None,\n",
      "greater_is_better=None,\n",
      "group_by_length=False,\n",
      "half_precision_backend=auto,\n",
      "hub_always_push=False,\n",
      "hub_model_id=None,\n",
      "hub_private_repo=False,\n",
      "hub_strategy=every_save,\n",
      "hub_token=<HUB_TOKEN>,\n",
      "ignore_data_skip=False,\n",
      "include_for_metrics=[],\n",
      "include_inputs_for_metrics=False,\n",
      "include_num_input_tokens_seen=False,\n",
      "include_tokens_per_second=False,\n",
      "jit_mode_eval=False,\n",
      "label_names=None,\n",
      "label_smoothing_factor=0.0,\n",
      "learning_rate=5e-05,\n",
      "length_column_name=length,\n",
      "load_best_model_at_end=False,\n",
      "local_rank=0,\n",
      "log_level=passive,\n",
      "log_level_replica=warning,\n",
      "log_on_each_node=True,\n",
      "logging_dir=/home/hengzq/workspace/modelscope/models/bert-base-cased/test_trainer/runs,\n",
      "logging_first_step=False,\n",
      "logging_nan_inf_filter=True,\n",
      "logging_steps=100,\n",
      "logging_strategy=steps,\n",
      "lr_scheduler_kwargs={},\n",
      "lr_scheduler_type=linear,\n",
      "max_grad_norm=1.0,\n",
      "max_steps=-1,\n",
      "metric_for_best_model=None,\n",
      "mp_parameters=,\n",
      "neftune_noise_alpha=None,\n",
      "no_cuda=False,\n",
      "num_train_epochs=3.0,\n",
      "optim=adamw_torch,\n",
      "optim_args=None,\n",
      "optim_target_modules=None,\n",
      "output_dir=/home/hengzq/workspace/modelscope/models/bert-base-cased/test_trainer,\n",
      "overwrite_output_dir=False,\n",
      "past_index=-1,\n",
      "per_device_eval_batch_size=8,\n",
      "per_device_train_batch_size=8,\n",
      "prediction_loss_only=False,\n",
      "push_to_hub=False,\n",
      "push_to_hub_model_id=None,\n",
      "push_to_hub_organization=None,\n",
      "push_to_hub_token=<PUSH_TO_HUB_TOKEN>,\n",
      "ray_scope=last,\n",
      "remove_unused_columns=True,\n",
      "report_to=[],\n",
      "restore_callback_states_from_checkpoint=False,\n",
      "resume_from_checkpoint=None,\n",
      "run_name=/home/hengzq/workspace/modelscope/models/bert-base-cased/test_trainer,\n",
      "save_on_each_node=False,\n",
      "save_only_model=False,\n",
      "save_safetensors=True,\n",
      "save_steps=500,\n",
      "save_strategy=steps,\n",
      "save_total_limit=None,\n",
      "seed=42,\n",
      "skip_memory_metrics=True,\n",
      "split_batches=None,\n",
      "tf32=None,\n",
      "torch_compile=False,\n",
      "torch_compile_backend=None,\n",
      "torch_compile_mode=None,\n",
      "torch_empty_cache_steps=None,\n",
      "torchdynamo=None,\n",
      "tpu_metrics_debug=False,\n",
      "tpu_num_cores=None,\n",
      "use_cpu=False,\n",
      "use_ipex=False,\n",
      "use_legacy_prediction_loop=False,\n",
      "use_liger_kernel=False,\n",
      "use_mps_device=False,\n",
      "warmup_ratio=0.0,\n",
      "warmup_steps=0,\n",
      "weight_decay=0.0,\n",
      ")\n"
     ]
    }
   ],
   "source": [
    "print(training_args)"
   ]
  },
  {
   "cell_type": "markdown",
   "id": "a4e71acb-ed07-4e44-a70c-ab7705c767e6",
   "metadata": {},
   "source": [
    "## 训练评估指标设置(Evaluate)\n",
    "\n",
    "    Hugging Face Evaluate库 支持使用一行代码，获得数十种不同领域（自然语言处理，计算机视觉、强化学习等）的评估方法。\n",
    "\n",
    "    完整的评估指标：[https://huggingface.co/evaluate-metric](https://huggingface.co/evaluate-metric)\n",
    "\n",
    "    训练器（Trainer)在训练过程中不会自动评估模型性能。因此，我们需要向训练器传递一个函数来计算和报告评估。\n",
    "\n",
    "    Evaluate库提供了一个简单的准确率函数，你可以使用`evaluate.load`函数加载\n",
    "\n"
   ]
  },
  {
   "cell_type": "code",
   "execution_count": 14,
   "id": "40923fc2-346c-480c-a36a-bca0f396cfaf",
   "metadata": {},
   "outputs": [],
   "source": [
    "#  定义度量函数\n",
    "def compute_accuracy(predictions, references):\n",
    "    correct = sum(p == r for p, r in zip(predictions, references))\n",
    "    return correct / len(predictions) if len(predictions) > 0 else 0.0"
   ]
  },
  {
   "cell_type": "markdown",
   "id": "16d74d08-97dc-4782-b15a-62bb43575a31",
   "metadata": {},
   "source": [
    "### 训练过程指标监控\n",
    "    通常，为了监控训练过程中的评估指标变化，我们可以在`TrainingArguments`指定`evaluation_strategy`参数，以便在epoch结束时评估指标。"
   ]
  },
  {
   "cell_type": "code",
   "execution_count": 16,
   "id": "3becadf1-e703-4f9e-9873-0e4893dcd9fc",
   "metadata": {},
   "outputs": [],
   "source": [
    "from transformers import TrainingArguments\n",
    "\n",
    "training_args = TrainingArguments(output_dir = f\"{model_dir}/test_trainer\",\n",
    "                                  logging_dir = f\"{model_dir}/test_trainer/runs\",\n",
    "                                  logging_steps = 100)"
   ]
  },
  {
   "cell_type": "markdown",
   "id": "a5f35619-b984-46e7-b9d4-b9092f08b3dc",
   "metadata": {},
   "source": [
    "## 实战训练\n",
    "\n",
    "\n"
   ]
  },
  {
   "cell_type": "code",
   "execution_count": 14,
   "id": "52267ac4-f8ae-4d97-80e6-2bcaead0c51f",
   "metadata": {},
   "outputs": [],
   "source": [
    "from transformers import Trainer\n",
    "\n",
    "trainer = Trainer(\n",
    "    model = model,\n",
    "    args = training_args,\n",
    "    train_dataset = small_train_dataset,\n",
    "    eval_dataset = small_eval_dataset\n",
    ")"
   ]
  },
  {
   "cell_type": "code",
   "execution_count": 15,
   "id": "6b4a979b-feb8-4b4e-aa28-da9e4c7d40b8",
   "metadata": {},
   "outputs": [
    {
     "data": {
      "text/html": [
       "\n",
       "    <div>\n",
       "      \n",
       "      <progress value='375' max='375' style='width:300px; height:20px; vertical-align: middle;'></progress>\n",
       "      [375/375 02:42, Epoch 3/3]\n",
       "    </div>\n",
       "    <table border=\"1\" class=\"dataframe\">\n",
       "  <thead>\n",
       " <tr style=\"text-align: left;\">\n",
       "      <th>Step</th>\n",
       "      <th>Training Loss</th>\n",
       "    </tr>\n",
       "  </thead>\n",
       "  <tbody>\n",
       "    <tr>\n",
       "      <td>100</td>\n",
       "      <td>1.403400</td>\n",
       "    </tr>\n",
       "    <tr>\n",
       "      <td>200</td>\n",
       "      <td>1.055400</td>\n",
       "    </tr>\n",
       "    <tr>\n",
       "      <td>300</td>\n",
       "      <td>0.776200</td>\n",
       "    </tr>\n",
       "  </tbody>\n",
       "</table><p>"
      ],
      "text/plain": [
       "<IPython.core.display.HTML object>"
      ]
     },
     "metadata": {},
     "output_type": "display_data"
    },
    {
     "data": {
      "text/plain": [
       "TrainOutput(global_step=375, training_loss=0.9796944274902344, metrics={'train_runtime': 163.9516, 'train_samples_per_second': 18.298, 'train_steps_per_second': 2.287, 'total_flos': 789354427392000.0, 'train_loss': 0.9796944274902344, 'epoch': 3.0})"
      ]
     },
     "execution_count": 15,
     "metadata": {},
     "output_type": "execute_result"
    }
   ],
   "source": [
    "trainer.train()"
   ]
  },
  {
   "cell_type": "markdown",
   "id": "d6f4dc3d-c4ac-46cc-8b57-1e3da3a580a2",
   "metadata": {},
   "source": [
    "### 训练状态\n",
    "- 使用`trainer.save_state`方法保存训练状态"
   ]
  },
  {
   "cell_type": "code",
   "execution_count": 16,
   "id": "9515e638-6271-4aa6-ba2c-6f202d82649a",
   "metadata": {},
   "outputs": [],
   "source": [
    "trainer.save_state()"
   ]
  },
  {
   "cell_type": "markdown",
   "id": "7ae756fd-8a43-419c-81fc-6138afdf4074",
   "metadata": {},
   "source": [
    "### 模型保存\n",
    "\n",
    "- 使用`trainer.save_model`方法保存模型，后续可以通过`from_pretrained()`方法重新加载\n"
   ]
  },
  {
   "cell_type": "code",
   "execution_count": 17,
   "id": "1180efc8-bd75-4f3f-a2c8-2de1256e6c64",
   "metadata": {},
   "outputs": [],
   "source": [
    "trainer.save_model()"
   ]
  }
 ],
 "metadata": {
  "kernelspec": {
   "display_name": "Python 3 (ipykernel)",
   "language": "python",
   "name": "python3"
  },
  "language_info": {
   "codemirror_mode": {
    "name": "ipython",
    "version": 3
   },
   "file_extension": ".py",
   "mimetype": "text/x-python",
   "name": "python",
   "nbconvert_exporter": "python",
   "pygments_lexer": "ipython3",
   "version": "3.10.14"
  }
 },
 "nbformat": 4,
 "nbformat_minor": 5
}
