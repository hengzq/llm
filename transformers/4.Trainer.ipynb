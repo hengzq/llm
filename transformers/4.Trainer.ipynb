{
 "cells": [
  {
   "cell_type": "markdown",
   "id": "be072f22-8c57-4342-b0cc-2093dcadd035",
   "metadata": {},
   "source": [
    "# Transformers Trainer \n",
    "    Transformers Trainer 旨在简化模型的微调训练\n",
    "\n",
    "\n",
    "```python\n",
    "    trainer = Trainer(\n",
    "        model=model,\n",
    "        args=training_args,\n",
    "        train_dataset=dataset[\"train\"],\n",
    "        eval_dataset=dataset[\"test\"],\n",
    "        processing_class=tokenizer,\n",
    "        data_collator=data_collator,\n",
    "        compute_metrics=compute_metrics,\n",
    "        callback=[EarlyStoppingCallback()],\n",
    "    )\n",
    "```\n",
    "\n",
    "训练\n",
    "```python\n",
    "    trainer.train()\n",
    "```\n"
   ]
  }
 ],
 "metadata": {
  "kernelspec": {
   "display_name": "Python 3 (ipykernel)",
   "language": "python",
   "name": "python3"
  },
  "language_info": {
   "codemirror_mode": {
    "name": "ipython",
    "version": 3
   },
   "file_extension": ".py",
   "mimetype": "text/x-python",
   "name": "python",
   "nbconvert_exporter": "python",
   "pygments_lexer": "ipython3",
   "version": "3.10.14"
  }
 },
 "nbformat": 4,
 "nbformat_minor": 5
}
