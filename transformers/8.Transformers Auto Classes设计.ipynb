{
 "cells": [
  {
   "cell_type": "markdown",
   "id": "159c09d3-3186-4dc5-9716-399786ffe658",
   "metadata": {},
   "source": [
    "# Transformers Auto Classes 设计： 统一接口、自动检索\n",
    "\n",
    "    AutoClasses 旨在通过全局统一的接口from_pretrained(),实现基于名称（路径）自动检索预训练权重（模型）、配置文件，词汇表等所有与模型相关的抽象。\n",
    "\n",
    "    \n"
   ]
  },
  {
   "cell_type": "markdown",
   "id": "ea740330-4604-4ea4-8e7b-9316d7b99c50",
   "metadata": {},
   "source": [
    "## AutoConfig\n",
    "\n",
    "    transformers.AutoConfig 类实例化通常由from_pretrained(pretrained_model_name_or_path,)方法完成。\n",
    "    Transformers根据配置中的model_type加载预定义配置，兜底方案是基于模型名称/路径自动推断。\n",
    "\n"
   ]
  },
  {
   "cell_type": "markdown",
   "id": "a90e601f-4bfe-4455-b2ff-f6a1f00bcf85",
   "metadata": {},
   "source": [
    "## 通用分词器 AutoTokenizer\n",
    "\n",
    "    transformers.AutoModel 类实例化通常由from_pretrained(pretrained_model_name_or_path,)方法完成。\n",
    "\n"
   ]
  },
  {
   "cell_type": "code",
   "execution_count": null,
   "id": "fb7f2097-f76f-4c0f-8820-d63ba7f0cf81",
   "metadata": {},
   "outputs": [],
   "source": []
  }
 ],
 "metadata": {
  "kernelspec": {
   "display_name": "Python 3 (ipykernel)",
   "language": "python",
   "name": "python3"
  },
  "language_info": {
   "codemirror_mode": {
    "name": "ipython",
    "version": 3
   },
   "file_extension": ".py",
   "mimetype": "text/x-python",
   "name": "python",
   "nbconvert_exporter": "python",
   "pygments_lexer": "ipython3",
   "version": "3.10.14"
  }
 },
 "nbformat": 4,
 "nbformat_minor": 5
}
