{
 "cells": [
  {
   "cell_type": "markdown",
   "id": "35f33f5d-8870-43e8-a6b4-097d1570ee11",
   "metadata": {},
   "source": [
    "## LangChain 入门指南\n",
    "\n",
    "LangChain 是一个集成框架，它为开发者提供了一系列的工具和组件，使得与语言模型中各种数据（如Google Analytics、Stripe、SQL、PDF等）的连接、语言模型的应用和优化变得简单直接。\n",
    "\n",
    "**为什么开发者要用LangChain而不是直接使用OpenAI或者Hugging Face上的模型？**\n",
    "- Hugging Face、OpenAI、Cohere可以提供底座模型和API，但是在产品中集成和使用他们仍然需要大量的工作。\n"
   ]
  },
  {
   "cell_type": "code",
   "execution_count": null,
   "id": "0970f51c-3182-4327-8b9a-4b7328e23e57",
   "metadata": {},
   "outputs": [],
   "source": []
  },
  {
   "cell_type": "code",
   "execution_count": 2,
   "id": "1c89112b-5bff-47f5-a786-d8600444afee",
   "metadata": {},
   "outputs": [
    {
     "name": "stdout",
     "output_type": "stream",
     "text": [
      "chat resp: 我是\n",
      "chat resp: Q\n",
      "chat resp: wen\n",
      "chat resp: ，\n",
      "chat resp: 由阿里云开发\n",
      "chat resp: 的超大规模语言\n",
      "chat resp: 模型。我的目的是\n",
      "chat resp: 帮助用户更高效\n",
      "chat resp: 地获取信息、\n",
      "chat resp: 创作内容、完成\n",
      "chat resp: 工作任务等。有什么\n",
      "chat resp: 我可以帮助你的吗\n",
      "chat resp: ？\n",
      "chat resp: \n"
     ]
    }
   ],
   "source": [
    "from langchain_community.chat_models.tongyi import ChatTongyi\n",
    "from langchain_core.messages import HumanMessage\n",
    "\n",
    "chatLLM = ChatTongyi(\n",
    "    model = \"qwen-max\",\n",
    "    streaming = True\n",
    ")\n",
    "\n",
    "res = chatLLM.stream([HumanMessage(content = \"你是谁\")], streaming = True)\n",
    "\n",
    "for r in res:\n",
    "    print(\"chat resp:\", r.content)"
   ]
  },
  {
   "cell_type": "code",
   "execution_count": null,
   "id": "e0b34cc4-5c45-4071-bff5-53d32d43b296",
   "metadata": {},
   "outputs": [],
   "source": []
  }
 ],
 "metadata": {
  "kernelspec": {
   "display_name": "Python 3 (ipykernel)",
   "language": "python",
   "name": "python3"
  },
  "language_info": {
   "codemirror_mode": {
    "name": "ipython",
    "version": 3
   },
   "file_extension": ".py",
   "mimetype": "text/x-python",
   "name": "python",
   "nbconvert_exporter": "python",
   "pygments_lexer": "ipython3",
   "version": "3.10.14"
  }
 },
 "nbformat": 4,
 "nbformat_minor": 5
}
