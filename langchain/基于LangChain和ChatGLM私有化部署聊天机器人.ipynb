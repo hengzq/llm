{
 "cells": [
  {
   "cell_type": "markdown",
   "id": "b7facd30-9b2e-4f03-acc8-e0a1e1ef0a00",
   "metadata": {},
   "source": [
    "# GhatGLM3-6B 模型私有化部署\n",
    "- 使用Transformers库加载模型\n",
    "- 使用Gradio Web UI部署\n",
    "- 使用Streamlit Web UI部署\n",
    "- 使用OpenAI API形式部署\n",
    "\n"
   ]
  },
  {
   "cell_type": "code",
   "execution_count": null,
   "id": "1d8a714d-5afe-44e9-b0d0-3562bb005317",
   "metadata": {},
   "outputs": [],
   "source": [
    "## \n"
   ]
  },
  {
   "cell_type": "markdown",
   "id": "adb57bee-0777-47d6-a8d5-2a707488c914",
   "metadata": {},
   "source": [
    "# LangChain 与 ChatGLM生态集成\n"
   ]
  },
  {
   "cell_type": "code",
   "execution_count": null,
   "id": "843c068f-db86-4045-9dba-d52308fc38af",
   "metadata": {},
   "outputs": [],
   "source": []
  },
  {
   "cell_type": "markdown",
   "id": "20f32946-0de0-4d96-a60e-494f76c94ea8",
   "metadata": {},
   "source": [
    "# 基于LangChain和ChatGLM 私有化部署聊天呢机器人\n"
   ]
  }
 ],
 "metadata": {
  "kernelspec": {
   "display_name": "Python 3 (ipykernel)",
   "language": "python",
   "name": "python3"
  },
  "language_info": {
   "codemirror_mode": {
    "name": "ipython",
    "version": 3
   },
   "file_extension": ".py",
   "mimetype": "text/x-python",
   "name": "python",
   "nbconvert_exporter": "python",
   "pygments_lexer": "ipython3",
   "version": "3.10.14"
  }
 },
 "nbformat": 4,
 "nbformat_minor": 5
}
